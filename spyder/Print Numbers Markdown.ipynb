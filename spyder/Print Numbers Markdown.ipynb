{
 "cells": [
  {
   "cell_type": "markdown",
   "id": "f19a049f",
   "metadata": {},
   "source": [
    "# Basic Python Code\n",
    "\n",
    "One of the most basic R commands is 'print()'. It prints what you put inside the parentheses. This is an example of it, with a for loop."
   ]
  },
  {
   "cell_type": "code",
   "execution_count": 4,
   "id": "a10af199",
   "metadata": {},
   "outputs": [
    {
     "name": "stdout",
     "output_type": "stream",
     "text": [
      "1\n",
      "2\n",
      "3\n",
      "4\n",
      "5\n",
      "6\n",
      "7\n",
      "8\n",
      "9\n",
      "10\n"
     ]
    }
   ],
   "source": [
    "for x in range(1,11):\n",
    "    print(x)"
   ]
  }
 ],
 "metadata": {
  "kernelspec": {
   "display_name": "Python 3",
   "language": "python",
   "name": "python3"
  },
  "language_info": {
   "codemirror_mode": {
    "name": "ipython",
    "version": 3
   },
   "file_extension": ".py",
   "mimetype": "text/x-python",
   "name": "python",
   "nbconvert_exporter": "python",
   "pygments_lexer": "ipython3",
   "version": "3.8.8"
  }
 },
 "nbformat": 4,
 "nbformat_minor": 5
}
